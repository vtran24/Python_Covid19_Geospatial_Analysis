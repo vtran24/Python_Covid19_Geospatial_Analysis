{
 "cells": [
  {
   "cell_type": "code",
   "execution_count": 2,
   "metadata": {},
   "outputs": [
    {
     "name": "stdout",
     "output_type": "stream",
     "text": [
      "Requirement already up-to-date: plotly in ./opt/anaconda3/lib/python3.7/site-packages (4.6.0)\n",
      "Requirement already satisfied, skipping upgrade: retrying>=1.3.3 in ./opt/anaconda3/lib/python3.7/site-packages (from plotly) (1.3.3)\n",
      "Requirement already satisfied, skipping upgrade: six in ./opt/anaconda3/lib/python3.7/site-packages (from plotly) (1.14.0)\n"
     ]
    }
   ],
   "source": [
    "#import packages\n",
    "import pandas as pd\n",
    "import plotly.express as px\n",
    "#import libaries to access geojson file (for animated chloropleth map)\n",
    "from urllib.request import urlopen\n",
    "import json\n",
    "!pip install plotly --upgrade plotly"
   ]
  },
  {
   "cell_type": "code",
   "execution_count": 3,
   "metadata": {},
   "outputs": [
    {
     "name": "stdout",
     "output_type": "stream",
     "text": [
      "Requirement already up-to-date: plotly in ./opt/anaconda3/lib/python3.7/site-packages (4.6.0)\n",
      "Requirement already satisfied, skipping upgrade: six in ./opt/anaconda3/lib/python3.7/site-packages (from plotly) (1.14.0)\n",
      "Requirement already satisfied, skipping upgrade: retrying>=1.3.3 in ./opt/anaconda3/lib/python3.7/site-packages (from plotly) (1.3.3)\n"
     ]
    }
   ],
   "source": [
    "!pip install plotly --upgrade plotly"
   ]
  },
  {
   "cell_type": "code",
   "execution_count": 4,
   "metadata": {},
   "outputs": [],
   "source": [
    "data_covid = \"https://raw.githubusercontent.com/CSSEGISandData/COVID-19/master/csse_covid_19_data/csse_covid_19_daily_reports/04-14-2020.csv\""
   ]
  },
  {
   "cell_type": "code",
   "execution_count": 5,
   "metadata": {},
   "outputs": [],
   "source": [
    "df_covid_0414 = pd.read_csv(data_covid)"
   ]
  },
  {
   "cell_type": "code",
   "execution_count": 6,
   "metadata": {},
   "outputs": [],
   "source": [
    "data_population = \"https://www2.census.gov/programs-surveys/popest/datasets/2010-2019/counties/totals/co-est2019-alldata.csv\""
   ]
  },
  {
   "cell_type": "code",
   "execution_count": 7,
   "metadata": {},
   "outputs": [],
   "source": [
    "df_covid_0414_us = df_covid_0414[df_covid_0414[\"Country_Region\"]== \"US\"]"
   ]
  },
  {
   "cell_type": "code",
   "execution_count": 8,
   "metadata": {},
   "outputs": [],
   "source": [
    "df_countypop = pd.read_csv(data_population,encoding='latin1')"
   ]
  },
  {
   "cell_type": "code",
   "execution_count": 9,
   "metadata": {},
   "outputs": [],
   "source": [
    "df_countypop[\"STATE\"] = df_countypop[\"STATE\"].astype(str)\n",
    "df_countypop[\"COUNTY\"] = df_countypop[\"COUNTY\"].astype(str)"
   ]
  },
  {
   "cell_type": "code",
   "execution_count": 10,
   "metadata": {},
   "outputs": [],
   "source": [
    "df_countypop[\"STATE\"] = df_countypop[\"STATE\"].str.zfill(2)\n",
    "df_countypop[\"COUNTY\"] = df_countypop[\"COUNTY\"].str.zfill(3)"
   ]
  },
  {
   "cell_type": "code",
   "execution_count": 11,
   "metadata": {},
   "outputs": [],
   "source": [
    "df_countypop[\"FIPS\"] = df_countypop[\"STATE\"] + df_countypop[\"COUNTY\"]"
   ]
  },
  {
   "cell_type": "code",
   "execution_count": 12,
   "metadata": {},
   "outputs": [],
   "source": [
    "df_covid_0414_us = df_covid_0414_us[df_covid_0414_us[\"FIPS\"].notnull()]"
   ]
  },
  {
   "cell_type": "code",
   "execution_count": 13,
   "metadata": {},
   "outputs": [],
   "source": [
    "df_covid_0414_us[\"FIPS\"] = df_covid_0414_us[\"FIPS\"].astype(int)\n",
    "df_covid_0414_us[\"FIPS\"] = df_covid_0414_us[\"FIPS\"].astype(str)"
   ]
  },
  {
   "cell_type": "code",
   "execution_count": 14,
   "metadata": {},
   "outputs": [],
   "source": [
    "df_covid_0414_us[\"FIPS\"] = df_covid_0414_us[\"FIPS\"].str.zfill(5)"
   ]
  },
  {
   "cell_type": "code",
   "execution_count": 15,
   "metadata": {},
   "outputs": [],
   "source": [
    "df_covid_0414_us = pd.merge(df_covid_0414_us,\n",
    "                           df_countypop[[\"FIPS\",\"POPESTIMATE2019\"]],\n",
    "                           on = \"FIPS\",\n",
    "                           how = \"left\")"
   ]
  },
  {
   "cell_type": "code",
   "execution_count": 16,
   "metadata": {},
   "outputs": [],
   "source": [
    "df_covid_0414_us[\"cases_per1000\"] = (df_covid_0414_us[\"Confirmed\"]/df_covid_0414_us[\"POPESTIMATE2019\"])*1000\n",
    "df_covid_0414_us[\"deaths_per1000\"] = (df_covid_0414_us[\"Deaths\"]/df_covid_0414_us[\"POPESTIMATE2019\"])*1000"
   ]
  },
  {
   "cell_type": "code",
   "execution_count": 17,
   "metadata": {},
   "outputs": [],
   "source": [
    "df_covid_0414_us[\"cases_per1000\"] = round(df_covid_0414_us[\"cases_per1000\"], 2)\n",
    "df_covid_0414_us[\"deaths_per1000\"] = round(df_covid_0414_us[\"deaths_per1000\"], 2)"
   ]
  },
  {
   "cell_type": "code",
   "execution_count": 18,
   "metadata": {},
   "outputs": [],
   "source": [
    "df_covid_0414_repeat = df_covid_0414_us.reindex(df_covid_0414_us.index.repeat(df_covid_0414_us[\"Confirmed\"])).reset_index()"
   ]
  },
  {
   "cell_type": "code",
   "execution_count": 19,
   "metadata": {},
   "outputs": [],
   "source": [
    "df_covid_0414_repeat = df_covid_0414_repeat.rename(columns = {\"Lat\": \"lat\",\n",
    "                                                                     \"Long_\": \"lon\"})"
   ]
  },
  {
   "cell_type": "code",
   "execution_count": 20,
   "metadata": {},
   "outputs": [],
   "source": [
    "density_heatmap = px.density_mapbox(df_covid_0414_repeat, # dataframe with data for the heatmap \n",
    "                                    lat = \"lat\", \n",
    "                                    lon = \"lon\", \n",
    "                                    z = \"Confirmed\", \n",
    "                                    hover_data = [\"Confirmed\", \"Deaths\", \"cases_per1000\", \"deaths_per1000\"],\n",
    "                                    hover_name = \"Combined_Key\",\n",
    "                                    center = dict(lat=37.0902, \n",
    "                                                  lon= -95.7129), # center of the US\n",
    "                                    zoom = 2.5, \n",
    "                                    labels = {\"Confirmed\": \"Cumulative Confirmed Cases\",\n",
    "                                         \"Deaths\": \"Cumulative Confirmed Deaths\",\n",
    "                                         \"cases_per1000\": \"Cases per 1,000 People\",\n",
    "                                         \"deaths_per1000\": \"Deaths per 1,000 People\"\n",
    "                                        }, \n",
    "                                    color_continuous_scale= \"Inferno\",\n",
    "                                    title = \"Density Heatmap of Confirmed COVID-19 Cases in the US\",\n",
    "                                    radius = 25,\n",
    "                                   )"
   ]
  },
  {
   "cell_type": "code",
   "execution_count": 21,
   "metadata": {},
   "outputs": [
    {
     "name": "stdout",
     "output_type": "stream",
     "text": [
      "/bin/sh: wget: command not found\n",
      "chmod: /usr/local/bin/orca: No such file or directory\n",
      "/bin/sh: apt-get: command not found\n"
     ]
    }
   ],
   "source": [
    "# install orca to download plotly html/images\n",
    "!wget https://github.com/plotly/orca/releases/download/v1.2.1/orca-1.2.1-x86_64.AppImage -O /usr/local/bin/orca\n",
    "!chmod +x /usr/local/bin/orca\n",
    "!apt-get install xvfb libgtk2.0-0 libgconf-2-4\n"
   ]
  },
  {
   "cell_type": "code",
   "execution_count": 22,
   "metadata": {},
   "outputs": [],
   "source": [
    "density_heatmap.write_html(\"density_heatmap_covid19_april14.html\")"
   ]
  },
  {
   "cell_type": "code",
   "execution_count": 23,
   "metadata": {},
   "outputs": [],
   "source": [
    "with urlopen('https://raw.githubusercontent.com/plotly/datasets/master/geojson-counties-fips.json') as response:\n",
    "    us_counties_shape = json.load(response)"
   ]
  },
  {
   "cell_type": "code",
   "execution_count": 24,
   "metadata": {},
   "outputs": [],
   "source": [
    "covid_nyt_data = \"https://raw.githubusercontent.com/nytimes/covid-19-data/master/us-counties.csv\""
   ]
  },
  {
   "cell_type": "code",
   "execution_count": 25,
   "metadata": {},
   "outputs": [],
   "source": [
    "df_county_nyt = pd.read_csv(covid_nyt_data)"
   ]
  },
  {
   "cell_type": "code",
   "execution_count": 26,
   "metadata": {},
   "outputs": [],
   "source": [
    "# convert fips to an integer then string then forward fill 0s to get 5 digits\n",
    "\n",
    "#remove null values\n",
    "df_county_nyt = df_county_nyt[df_county_nyt[\"fips\"].notnull()]\n",
    "# edit datatypes\n",
    "df_county_nyt[\"fips\"] = df_county_nyt[\"fips\"].astype(int)\n",
    "df_county_nyt[\"fips\"] = df_county_nyt[\"fips\"].astype(str)\n",
    "df_county_nyt[\"fips\"] = df_county_nyt[\"fips\"].str.zfill(5)"
   ]
  },
  {
   "cell_type": "code",
   "execution_count": 27,
   "metadata": {},
   "outputs": [],
   "source": [
    "df_county_nyt[\"date\"] = pd.to_datetime(df_county_nyt[\"date\"])"
   ]
  },
  {
   "cell_type": "code",
   "execution_count": 28,
   "metadata": {},
   "outputs": [],
   "source": [
    "df_county_nyt[\"month_name\"] = df_county_nyt[\"date\"].dt.month_name()"
   ]
  },
  {
   "cell_type": "code",
   "execution_count": 29,
   "metadata": {},
   "outputs": [],
   "source": [
    "df_county_nyt[\"day_of_month\"] = df_county_nyt[\"date\"].dt.day"
   ]
  },
  {
   "cell_type": "code",
   "execution_count": 30,
   "metadata": {},
   "outputs": [],
   "source": [
    "df_county_nyt[\"month_day_name\"] = df_county_nyt[\"month_name\"] + \" \" + df_county_nyt[\"day_of_month\"].astype(str)"
   ]
  },
  {
   "cell_type": "code",
   "execution_count": 31,
   "metadata": {},
   "outputs": [],
   "source": [
    "df_county_nyt = pd.merge(df_county_nyt,\n",
    "                         df_countypop[[\"FIPS\",\"POPESTIMATE2019\"]],\n",
    "                         left_on = \"fips\",\n",
    "                         right_on = \"FIPS\",\n",
    "                         how = \"left\")"
   ]
  },
  {
   "cell_type": "code",
   "execution_count": 32,
   "metadata": {},
   "outputs": [],
   "source": [
    "df_county_nyt[\"cases_per100000\"] = round(((df_county_nyt[\"cases\"]/df_county_nyt[\"POPESTIMATE2019\"])*100000),3)\n",
    "df_county_nyt[\"deaths_per100000\"] = round(((df_county_nyt[\"deaths\"]/df_county_nyt[\"POPESTIMATE2019\"])*100000),3)"
   ]
  },
  {
   "cell_type": "code",
   "execution_count": 33,
   "metadata": {},
   "outputs": [
    {
     "name": "stdout",
     "output_type": "stream",
     "text": [
      "['#0d0887', '#46039f', '#7201a8', '#9c179e', '#bd3786', '#d8576b', '#ed7953', '#fb9f3a', '#fdca26', '#f0f921']\n"
     ]
    }
   ],
   "source": [
    "print(px.colors.sequential.Plasma)"
   ]
  },
  {
   "cell_type": "code",
   "execution_count": 34,
   "metadata": {},
   "outputs": [],
   "source": [
    "covid_colorscale = [\n",
    "        [0, '#0d0887'],       #0 cases\n",
    "        [1./1000, '#7201a8'], #10 cases\n",
    "        [1./100, '#bd3786'],  #100 cases\n",
    "        [1./10, '#ed7953'],   #1000 cases\n",
    "        [1., '#fdca26'],      #10000 cases\n",
    "]"
   ]
  },
  {
   "cell_type": "code",
   "execution_count": 35,
   "metadata": {},
   "outputs": [],
   "source": [
    "covid_uscounty_color = px.choropleth(df_county_nyt, # dataframe with data for choropleth\n",
    "                                     geojson=us_counties_shape, # shape, geospatial data geojson\n",
    "                                     locations='fips', # column in geojson that denotes the shapes\n",
    "                                     color='cases_per100000', # column in df that denotes the color scale\n",
    "                                     animation_group = \"month_day_name\",\n",
    "                                     animation_frame = \"month_day_name\",\n",
    "                                     hover_name = df_county_nyt[\"county\"] + \", \" + df_county_nyt[\"state\"],\n",
    "                                     hover_data = [\"cases\", \"deaths\", \"cases_per100000\", \"deaths_per100000\"],\n",
    "                                     color_continuous_scale=covid_colorscale, # custom color scale to better show exponential growth\n",
    "                                     scope=\"usa\", # scope of map (world, USA, or any continent)\n",
    "                                     labels={'cases':'Cummulative Reported COVID-19 Cases',\n",
    "                                             \"deaths\": \"Cummulative Reported COVID-19 Deaths\",\n",
    "                                             \"month_day_name\": \"Date\",\n",
    "                                             \"fips\": \"FIPS Code\",\n",
    "                                            \"cases_per100000\": \"Cummulative Reported Cases per 100,000 People\",\n",
    "                                             \"deaths_per100000\": \"Cummulative Reported Deaths per 100,000 People\"\n",
    "                                            }, # renaming any columns used\n",
    "                                     title = \"Spread of COVID-19 Cases in US Counties Per Capita<br>January 21, 2020-April 15, 2020\"\n",
    "                                          \n",
    "                          )"
   ]
  },
  {
   "cell_type": "code",
   "execution_count": null,
   "metadata": {},
   "outputs": [],
   "source": [
    "covid_uscounty_color.write_html(\"covid19_cases_us_county.html\")"
   ]
  },
  {
   "cell_type": "code",
   "execution_count": null,
   "metadata": {},
   "outputs": [],
   "source": []
  }
 ],
 "metadata": {
  "kernelspec": {
   "display_name": "Python 3",
   "language": "python",
   "name": "python3"
  },
  "language_info": {
   "codemirror_mode": {
    "name": "ipython",
    "version": 3
   },
   "file_extension": ".py",
   "mimetype": "text/x-python",
   "name": "python",
   "nbconvert_exporter": "python",
   "pygments_lexer": "ipython3",
   "version": "3.7.6"
  }
 },
 "nbformat": 4,
 "nbformat_minor": 4
}
